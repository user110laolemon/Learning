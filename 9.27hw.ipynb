{
 "cells": [
  {
   "cell_type": "markdown",
   "id": "a2fa61f1",
   "metadata": {},
   "source": [
    "# Python"
   ]
  },
  {
   "cell_type": "markdown",
   "id": "27dd2b25",
   "metadata": {},
   "source": [
    "## 1."
   ]
  },
  {
   "cell_type": "code",
   "execution_count": 24,
   "id": "b8e74a65",
   "metadata": {},
   "outputs": [
    {
     "name": "stdout",
     "output_type": "stream",
     "text": [
      "1-100以内的奇数有：\n",
      "1 3 5 7 9 11 13 15 17 19 21 23 25 27 29 31 33 35 37 39 41 43 45 47 49 51 53 55 57 59 61 63 65 67 69 71 73 75 77 79 81 83 85 87 89 91 93 95 97 99 \t50以内的奇数乘积为： 58435841445947272053455474390625\n"
     ]
    }
   ],
   "source": [
    "s=int(1)\n",
    "print(\"1-100以内的奇数有：\")\n",
    "for i in range(1,101):\n",
    "    if i%2==1:\n",
    "        print(i,end=\" \")\n",
    "        if i<50:\n",
    "            s=s*i\n",
    "print(\"\\t50以内的奇数乘积为：\",s)        "
   ]
  },
  {
   "cell_type": "markdown",
   "id": "4d5693c8",
   "metadata": {},
   "source": [
    "## 2."
   ]
  },
  {
   "cell_type": "markdown",
   "id": "2cc466a7",
   "metadata": {},
   "source": [
    "#### for循环"
   ]
  },
  {
   "cell_type": "code",
   "execution_count": 11,
   "id": "607949b4",
   "metadata": {},
   "outputs": [
    {
     "name": "stdout",
     "output_type": "stream",
     "text": [
      "[5, 4, 3, 2, 1]\n"
     ]
    }
   ],
   "source": [
    "l1=[1,2,3,4,5]\n",
    "lr1=[]\n",
    "for i in range(0,5):\n",
    "    lr1.append(l1[4-i])\n",
    "    i+=1\n",
    "print(lr1)\n",
    "    "
   ]
  },
  {
   "cell_type": "markdown",
   "id": "2fe08dc3",
   "metadata": {},
   "source": [
    "#### while循环"
   ]
  },
  {
   "cell_type": "code",
   "execution_count": 15,
   "id": "fe83023d",
   "metadata": {},
   "outputs": [
    {
     "name": "stdout",
     "output_type": "stream",
     "text": [
      "[5, 4, 3, 2, 1]\n"
     ]
    }
   ],
   "source": [
    "l2=[1,2,3,4,5]\n",
    "lr2=[]\n",
    "i=0\n",
    "while i< len(l2):\n",
    "    lr2.append(l2[4-i])\n",
    "    i+=1\n",
    "print(lr2)"
   ]
  },
  {
   "cell_type": "markdown",
   "id": "5ccd7f28",
   "metadata": {},
   "source": [
    "#### 数组切片"
   ]
  },
  {
   "cell_type": "code",
   "execution_count": 20,
   "id": "63b47cad",
   "metadata": {},
   "outputs": [
    {
     "name": "stdout",
     "output_type": "stream",
     "text": [
      "[5, 4, 3, 2, 1]\n"
     ]
    }
   ],
   "source": [
    "import numpy as np\n",
    "l3=[1,2,3,4,5]\n",
    "arr3=np.array(l3)\n",
    "print(arr3[::-1].tolist())"
   ]
  },
  {
   "cell_type": "markdown",
   "id": "613d56b3",
   "metadata": {},
   "source": [
    "## 3."
   ]
  },
  {
   "cell_type": "code",
   "execution_count": 33,
   "id": "5f1531e7",
   "metadata": {},
   "outputs": [
    {
     "name": "stdout",
     "output_type": "stream",
     "text": [
      "abccccda\n",
      "abccccda中包含cccc这个由4个连续字符c组成的字符串。\n"
     ]
    }
   ],
   "source": [
    "from collections import Counter\n",
    "s=str(input())\n",
    "trans=s[0]\n",
    "number=1\n",
    "for i in range (1,len(s)):\n",
    "    if trans==s[i]:\n",
    "        number+=1\n",
    "        biaoji=i\n",
    "    else:\n",
    "        trans=s[i]\n",
    "    i+=1\n",
    "        \n",
    "print(f\"{s}中包含{s[biaoji]*number}这个由{number}个连续字符{s[biaoji]}组成的字符串。\")\n"
   ]
  },
  {
   "cell_type": "markdown",
   "id": "1de4a569",
   "metadata": {},
   "source": [
    "## 4."
   ]
  },
  {
   "cell_type": "code",
   "execution_count": 3,
   "id": "2e99c5e1",
   "metadata": {},
   "outputs": [
    {
     "name": "stdout",
     "output_type": "stream",
     "text": [
      "Data Science and Engineering\n",
      "DataScienceandEngineering"
     ]
    }
   ],
   "source": [
    "st=str(input())\n",
    "for a in range (len(st)):\n",
    "    if st[a]!=\" \":\n",
    "        print(st[a],end=\"\")\n",
    "    a+=1\n"
   ]
  },
  {
   "cell_type": "markdown",
   "id": "6325be50",
   "metadata": {},
   "source": [
    "# 数据思维"
   ]
  },
  {
   "cell_type": "markdown",
   "id": "76734fd6",
   "metadata": {},
   "source": [
    "## 1."
   ]
  },
  {
   "cell_type": "code",
   "execution_count": 10,
   "id": "75f270e4",
   "metadata": {},
   "outputs": [
    {
     "name": "stdout",
     "output_type": "stream",
     "text": [
      "0.4699935\n"
     ]
    }
   ],
   "source": [
    "import random\n",
    "import math\n",
    "s=1\n",
    "N=10000000\n",
    "c=0\n",
    "for i in range(N):\n",
    "    x=random.uniform(0.0,1.0)\n",
    "    y=random.uniform(0.0,1.0)\n",
    "    if y<=(pow(x,3)+pow(x,2)):\n",
    "        c+=1\n",
    "print(c/N*s)"
   ]
  },
  {
   "cell_type": "markdown",
   "id": "c765b617",
   "metadata": {},
   "source": [
    "##  2.(1)"
   ]
  },
  {
   "cell_type": "code",
   "execution_count": 13,
   "id": "60b5e932",
   "metadata": {},
   "outputs": [
    {
     "name": "stdout",
     "output_type": "stream",
     "text": [
      "1.4142135623746899\n"
     ]
    }
   ],
   "source": [
    "def newton_raphson(k, epsilon):\n",
    "    guess = k\n",
    "    while abs(guess * guess - k) >= epsilon:\n",
    "        guess = guess - (((guess * guess) - k) / (guess * 2))\n",
    "    return guess\n",
    "print(newton_raphson(2, 0.000000001))"
   ]
  },
  {
   "cell_type": "markdown",
   "id": "448dd9ce",
   "metadata": {},
   "source": [
    "## 2.(2)"
   ]
  },
  {
   "cell_type": "code",
   "execution_count": 14,
   "id": "a27ed3b4",
   "metadata": {},
   "outputs": [
    {
     "name": "stdout",
     "output_type": "stream",
     "text": [
      "1.4142135623842478\n"
     ]
    }
   ],
   "source": [
    "def bi_search_root(x, epsilon):\n",
    "    low = 0.0\n",
    "    high = max(1.0, x)\n",
    "    ans = (high + low) / 2.0\n",
    "    while abs(ans ** 2 - x) >= epsilon:\n",
    "        if ans ** 2 < x:\n",
    "            low = ans\n",
    "        else:\n",
    "            high = ans\n",
    "        ans = (high + low) / 2.0\n",
    "    return ans\n",
    "print(bi_search_root(2, 0.000000001))"
   ]
  },
  {
   "cell_type": "markdown",
   "id": "65d6a556",
   "metadata": {},
   "source": [
    "## 2.(3)"
   ]
  },
  {
   "cell_type": "code",
   "execution_count": 40,
   "id": "9a031c3d",
   "metadata": {},
   "outputs": [
    {
     "name": "stdout",
     "output_type": "stream",
     "text": [
      "1.4089566\n"
     ]
    }
   ],
   "source": [
    "import random\n",
    "import math\n",
    "s_=3\n",
    "N_=10000000\n",
    "c_=0\n",
    "for i in range(N_):\n",
    "    x=random.uniform(0.0,1.0)\n",
    "    y=random.uniform(0.0,1.0)\n",
    "    if y<=(math.pow(x,3)+math.pow(x,2)):\n",
    "        c_+=1\n",
    "print(c_/N_*s_)"
   ]
  },
  {
   "cell_type": "markdown",
   "id": "dbbeb2c2",
   "metadata": {},
   "source": [
    "## 3.(1)"
   ]
  },
  {
   "cell_type": "code",
   "execution_count": 21,
   "id": "efacac00",
   "metadata": {},
   "outputs": [
    {
     "name": "stdout",
     "output_type": "stream",
     "text": [
      "3.1416139007\n"
     ]
    }
   ],
   "source": [
    "from random import random\n",
    "from math import sqrt\n",
    "DARTS = 2**26\n",
    "hits=0\n",
    "for i in range(1,int(DARTS)):\n",
    "    x,y =random(),random()\n",
    "    dist = sqrt(x**2+y**2)\n",
    "    if dist <=1.0:\n",
    "        hits =hits+1\n",
    "pi = 4*(hits/DARTS)\n",
    "print(round(pi,10))"
   ]
  },
  {
   "cell_type": "markdown",
   "id": "2ab3acf1",
   "metadata": {},
   "source": [
    "## 3.(2)"
   ]
  },
  {
   "cell_type": "code",
   "execution_count": 20,
   "id": "e88a566a",
   "metadata": {},
   "outputs": [
    {
     "name": "stdout",
     "output_type": "stream",
     "text": [
      "3.1415906536\n"
     ]
    }
   ],
   "source": [
    "i , s, flag = 1, 0, 1\n",
    "while abs(1 / i) > 1e-6:\n",
    "    s += flag * 1 / i\n",
    "    i += 2\n",
    "    flag = -1 * flag\n",
    "    \n",
    "print(round(s *4, 10))\n"
   ]
  },
  {
   "cell_type": "markdown",
   "id": "28b60d0c",
   "metadata": {},
   "source": [
    "## 3.(3)"
   ]
  },
  {
   "cell_type": "code",
   "execution_count": 24,
   "id": "630057b6",
   "metadata": {},
   "outputs": [
    {
     "name": "stdout",
     "output_type": "stream",
     "text": [
      "3.1415926536\n"
     ]
    }
   ],
   "source": [
    "import math\n",
    "def factorial(n):\n",
    "   if n==0:\n",
    "       return 1\n",
    "   else:\n",
    "       return n*factorial(n-1)\n",
    "\n",
    "def pi():\n",
    "    sum =0\n",
    "    k=0\n",
    "    f=2*(math.sqrt(2))/9801\n",
    "    while True:\n",
    "        fz = (26390*k + 1103)*factorial(4*k)     \n",
    "        fm = (396**(4*k))*((factorial(k))**4)\n",
    "        t = f*fz/fm\n",
    "        sum += t\n",
    "        if t<1e-15:            \n",
    "            break\n",
    "        k += 1        \n",
    "    return 1/sum\n",
    "\n",
    "print(round(pi(),10))"
   ]
  },
  {
   "cell_type": "code",
   "execution_count": null,
   "id": "9774c50a",
   "metadata": {},
   "outputs": [],
   "source": []
  }
 ],
 "metadata": {
  "kernelspec": {
   "display_name": "Python 3 (ipykernel)",
   "language": "python",
   "name": "python3"
  },
  "language_info": {
   "codemirror_mode": {
    "name": "ipython",
    "version": 3
   },
   "file_extension": ".py",
   "mimetype": "text/x-python",
   "name": "python",
   "nbconvert_exporter": "python",
   "pygments_lexer": "ipython3",
   "version": "3.9.12"
  }
 },
 "nbformat": 4,
 "nbformat_minor": 5
}
